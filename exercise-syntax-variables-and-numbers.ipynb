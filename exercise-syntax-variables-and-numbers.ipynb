{
 "cells": [
  {
   "cell_type": "markdown",
   "id": "0d454acd",
   "metadata": {
    "papermill": {
     "duration": 0.007752,
     "end_time": "2022-11-17T17:26:40.818831",
     "exception": false,
     "start_time": "2022-11-17T17:26:40.811079",
     "status": "completed"
    },
    "tags": []
   },
   "source": [
    "**This notebook is an exercise in the [Python](https://www.kaggle.com/learn/python) course."
   ]
  },
  {
   "cell_type": "markdown",
   "id": "b09786e4",
   "metadata": {
    "papermill": {
     "duration": 0.006298,
     "end_time": "2022-11-17T17:26:40.831856",
     "exception": false,
     "start_time": "2022-11-17T17:26:40.825558",
     "status": "completed"
    },
    "tags": []
   },
   "source": [
    "Welcome to your first set of Python coding problems.  If this is your first time using Kaggle Notebooks, welcome! \n",
    "\n",
    "Notebooks are composed of blocks (called \"cells\") of text and code. Each of these is editable, though you'll mainly be editing the code cells to answer some questions.\n",
    "\n",
    "To get started, try running the code cell below (by pressing the ► button, or clicking on the cell and pressing ctrl+enter on your keyboard)."
   ]
  },
  {
   "cell_type": "code",
   "execution_count": 1,
   "id": "4ee21e7a",
   "metadata": {
    "execution": {
     "iopub.execute_input": "2022-11-17T17:26:40.847964Z",
     "iopub.status.busy": "2022-11-17T17:26:40.846890Z",
     "iopub.status.idle": "2022-11-17T17:26:40.861800Z",
     "shell.execute_reply": "2022-11-17T17:26:40.860225Z"
    },
    "papermill": {
     "duration": 0.026386,
     "end_time": "2022-11-17T17:26:40.864853",
     "exception": false,
     "start_time": "2022-11-17T17:26:40.838467",
     "status": "completed"
    },
    "tags": []
   },
   "outputs": [
    {
     "name": "stdout",
     "output_type": "stream",
     "text": [
      "You've successfully run some Python code\n",
      "Congratulations!\n",
      "Hello, World!\n"
     ]
    }
   ],
   "source": [
    "print(\"You've successfully run some Python code\")\n",
    "print(\"Congratulations!\")\n",
    "print(\"Hello, World!\")"
   ]
  },
  {
   "cell_type": "markdown",
   "id": "933504bd",
   "metadata": {
    "papermill": {
     "duration": 0.006419,
     "end_time": "2022-11-17T17:26:40.878176",
     "exception": false,
     "start_time": "2022-11-17T17:26:40.871757",
     "status": "completed"
    },
    "tags": []
   },
   "source": [
    "Try adding another line of code in the cell above and re-running it. \n",
    "\n",
    "Now let's get a little fancier:  Add a new code cell by clicking on an existing code cell, hitting the escape key, and then hitting the `a` or `b` key.  The `a` key will add a cell above the current cell, and `b` adds a cell below.\n",
    "\n",
    "Great! Now you know how to use Notebooks.\n",
    "\n",
    "Each hands-on exercise starts by setting up our feedback and code checking mechanism. Run the code cell below to do that. Then you'll be ready to move on to question 0."
   ]
  },
  {
   "cell_type": "code",
   "execution_count": 2,
   "id": "5d6682e4",
   "metadata": {
    "execution": {
     "iopub.execute_input": "2022-11-17T17:26:40.894073Z",
     "iopub.status.busy": "2022-11-17T17:26:40.893134Z",
     "iopub.status.idle": "2022-11-17T17:26:40.946794Z",
     "shell.execute_reply": "2022-11-17T17:26:40.944736Z"
    },
    "papermill": {
     "duration": 0.064557,
     "end_time": "2022-11-17T17:26:40.949472",
     "exception": false,
     "start_time": "2022-11-17T17:26:40.884915",
     "status": "completed"
    },
    "tags": []
   },
   "outputs": [
    {
     "name": "stdout",
     "output_type": "stream",
     "text": [
      "Setup complete! You're ready to start question 0.\n"
     ]
    }
   ],
   "source": [
    "from learntools.core import binder; binder.bind(globals())\n",
    "from learntools.python.ex1 import *\n",
    "print(\"Setup complete! You're ready to start question 0.\")"
   ]
  },
  {
   "cell_type": "markdown",
   "id": "9ae1dcc8",
   "metadata": {
    "papermill": {
     "duration": 0.006138,
     "end_time": "2022-11-17T17:26:40.987173",
     "exception": false,
     "start_time": "2022-11-17T17:26:40.981035",
     "status": "completed"
    },
    "tags": []
   },
   "source": [
    "# 0.\n",
    "\n",
    "*This is a silly question intended as an introduction to the format we use for hands-on exercises throughout all Kaggle courses.*\n",
    "\n",
    "**What is your favorite color? **\n",
    "\n",
    "To complete this question, create a variable called `color` in the cell below with an appropriate value. The function call `q0.check()` (which we've already provided in the cell below) will check your answer."
   ]
  },
  {
   "cell_type": "code",
   "execution_count": 4,
   "id": "f0f7cc57",
   "metadata": {
    "execution": {
     "iopub.execute_input": "2022-11-17T17:26:41.003611Z",
     "iopub.status.busy": "2022-11-17T17:26:41.003183Z",
     "iopub.status.idle": "2022-11-17T17:26:41.015437Z",
     "shell.execute_reply": "2022-11-17T17:26:41.014305Z"
    },
    "papermill": {
     "duration": 0.024099,
     "end_time": "2022-11-17T17:26:41.017789",
     "exception": false,
     "start_time": "2022-11-17T17:26:40.993690",
     "status": "completed"
    },
    "tags": []
   },
   "outputs": [
    {
     "data": {
      "application/javascript": "parent.postMessage({\"jupyterEvent\": \"custom.exercise_interaction\", \"data\": {\"outcomeType\": 1, \"valueTowardsCompletion\": 0.25, \"interactionType\": 1, \"questionType\": 2, \"questionId\": \"0_ExerciseFormatTutorial\", \"learnToolsVersion\": \"0.3.4\", \"failureMessage\": \"\", \"exceptionClass\": \"\", \"trace\": \"\"}}, \"*\")",
      "text/plain": [
       "<IPython.core.display.Javascript object>"
      ]
     },
     "metadata": {},
     "output_type": "display_data"
    },
    {
     "data": {
      "text/markdown": [
       "<span style=\"color:#33cc33\">Correct:</span> What?! You got it right without needing a hint or anything? Drats. Well hey, you should still continue to the next step to get some practice asking for a hint and checking solutions. (Even though you obviously don't need any help here.)"
      ],
      "text/plain": [
       "Correct: What?! You got it right without needing a hint or anything? Drats. Well hey, you should still continue to the next step to get some practice asking for a hint and checking solutions. (Even though you obviously don't need any help here.)"
      ]
     },
     "metadata": {},
     "output_type": "display_data"
    }
   ],
   "source": [
    "# create a variable called color with an appropriate value on the line below\n",
    "# (Remember, strings in Python must be enclosed in 'single' or \"double\" quotes)\n",
    "____\n",
    "\n",
    "# Check your answer\n",
    "color = \"blue\"\n",
    "q0.check()"
   ]
  },
  {
   "cell_type": "markdown",
   "id": "077ab600",
   "metadata": {
    "papermill": {
     "duration": 0.009948,
     "end_time": "2022-11-17T17:26:41.034638",
     "exception": false,
     "start_time": "2022-11-17T17:26:41.024690",
     "status": "completed"
    },
    "tags": []
   },
   "source": [
    "Didn't get the right answer? How do you not even know your own favorite color?!\n",
    "\n",
    "Delete the `#` in the line below to make one of the lines run. You can choose between getting a hint or the full answer by choosing which line to remove the `#` from. \n",
    "\n",
    "Removing the `#` is called uncommenting, because it changes that line from a \"comment\" which Python doesn't run to code, which Python does run."
   ]
  },
  {
   "cell_type": "code",
   "execution_count": 5,
   "id": "48c7d44d",
   "metadata": {
    "execution": {
     "iopub.execute_input": "2022-11-17T17:26:41.050859Z",
     "iopub.status.busy": "2022-11-17T17:26:41.050431Z",
     "iopub.status.idle": "2022-11-17T17:26:41.059916Z",
     "shell.execute_reply": "2022-11-17T17:26:41.058809Z"
    },
    "papermill": {
     "duration": 0.020305,
     "end_time": "2022-11-17T17:26:41.062196",
     "exception": false,
     "start_time": "2022-11-17T17:26:41.041891",
     "status": "completed"
    },
    "tags": []
   },
   "outputs": [
    {
     "data": {
      "application/javascript": "parent.postMessage({\"jupyterEvent\": \"custom.exercise_interaction\", \"data\": {\"interactionType\": 2, \"questionType\": 2, \"questionId\": \"0_ExerciseFormatTutorial\", \"learnToolsVersion\": \"0.3.4\", \"valueTowardsCompletion\": 0.0, \"failureMessage\": \"\", \"exceptionClass\": \"\", \"trace\": \"\", \"outcomeType\": 4}}, \"*\")",
      "text/plain": [
       "<IPython.core.display.Javascript object>"
      ]
     },
     "metadata": {},
     "output_type": "display_data"
    },
    {
     "data": {
      "text/markdown": [
       "<span style=\"color:#3366cc\">Hint:</span> Your favorite color rhymes with *glue*."
      ],
      "text/plain": [
       "Hint: Your favorite color rhymes with *glue*."
      ]
     },
     "metadata": {},
     "output_type": "display_data"
    }
   ],
   "source": [
    "#q0.hint()\n",
    "#q0.solution()"
   ]
  },
  {
   "cell_type": "markdown",
   "id": "b4b0a9ad",
   "metadata": {
    "papermill": {
     "duration": 0.007136,
     "end_time": "2022-11-17T17:26:41.076529",
     "exception": false,
     "start_time": "2022-11-17T17:26:41.069393",
     "status": "completed"
    },
    "tags": []
   },
   "source": [
    "The upcoming questions work the same way. The only thing that will change are the question numbers. For the next question, you'll call `q1.check()`, `q1.hint()`, `q1.solution()`, for question 2, you'll call `q2.check()`, and so on."
   ]
  },
  {
   "cell_type": "markdown",
   "id": "fcf331a9",
   "metadata": {},
   "source": [
    "**1.**"
   ]
  },
  {
   "cell_type": "code",
   "execution_count": null,
   "id": "a4f620bb",
   "metadata": {},
   "outputs": [],
   "source": [
    "pi = 3.14159 # approximate\n",
    "diameter = 3\n",
    "\n",
    "# Create a variable called 'radius' equal to half the diameter\n",
    "radius = diameter/2\n",
    "\n",
    "# Create a variable called 'area', using the formula for the area of a circle: pi times the radius squared\n",
    "area = pi* radius ** 2\n",
    "\n",
    "q1.check()"
   ]
  },
  {
   "cell_type": "code",
   "execution_count": null,
   "id": "32f5fa00",
   "metadata": {},
   "outputs": [],
   "source": [
    "Correct"
   ]
  },
  {
   "cell_type": "code",
   "execution_count": null,
   "id": "a2172493",
   "metadata": {},
   "outputs": [],
   "source": [
    "# Uncomment and run the lines below if you need help.\n",
    "#q1.hint()\n",
    "#q1.solution()"
   ]
  },
  {
   "cell_type": "markdown",
   "id": "fbf4391c",
   "metadata": {},
   "source": [
    "<hr/>\n",
    "\n",
    "# 2.\n",
    "\n",
    "Add code to the following cell to swap variables `a` and `b` (so that `a` refers to the object previously referred to by `b` and vice versa)."
   ]
  },
  {
   "cell_type": "code",
   "execution_count": null,
   "id": "541e3877",
   "metadata": {
    "execution": {
     "iopub.execute_input": "2022-11-17T17:26:41.108764Z",
     "iopub.status.busy": "2022-11-17T17:26:41.108342Z",
     "iopub.status.idle": "2022-11-17T17:26:41.118240Z",
     "shell.execute_reply": "2022-11-17T17:26:41.117361Z"
    },
    "papermill": {
     "duration": 0.020937,
     "end_time": "2022-11-17T17:26:41.120305",
     "exception": false,
     "start_time": "2022-11-17T17:26:41.099368",
     "status": "completed"
    },
    "tags": []
   },
   "outputs": [
    {
     "data": {
      "application/javascript": "parent.postMessage({\"jupyterEvent\": \"custom.exercise_interaction\", \"data\": {\"outcomeType\": 1, \"valueTowardsCompletion\": 0.25, \"interactionType\": 1, \"questionType\": 2, \"questionId\": \"2_VariableSwap\", \"learnToolsVersion\": \"0.3.4\", \"failureMessage\": \"\", \"exceptionClass\": \"\", \"trace\": \"\"}}, \"*\")",
      "text/plain": [
       "<IPython.core.display.Javascript object>"
      ]
     },
     "metadata": {},
     "output_type": "display_data"
    },
    {
     "data": {
      "text/markdown": [
       "<span style=\"color:#33cc33\">Correct:</span> \n",
       "\n",
       "The most straightforward solution is to use a third variable to temporarily store one of the old values. e.g.:\n",
       "\n",
       "    tmp = a\n",
       "    a = b\n",
       "    b = tmp\n",
       "\n",
       "If you've read lots of Python code, you might have seen the following trick to swap two variables in one line:\n",
       "\n",
       "    a, b = b, a\n",
       "\n",
       "We'll demystify this bit of Python magic later when we talk about *tuples*."
      ],
      "text/plain": [
       "Correct: \n",
       "\n",
       "The most straightforward solution is to use a third variable to temporarily store one of the old values. e.g.:\n",
       "\n",
       "    tmp = a\n",
       "    a = b\n",
       "    b = tmp\n",
       "\n",
       "If you've read lots of Python code, you might have seen the following trick to swap two variables in one line:\n",
       "\n",
       "    a, b = b, a\n",
       "\n",
       "We'll demystify this bit of Python magic later when we talk about *tuples*."
      ]
     },
     "metadata": {},
     "output_type": "display_data"
    }
   ],
   "source": [
    "########### Setup code - don't touch this part ######################\n",
    "# If you're curious, these are examples of lists. We'll talk about \n",
    "# them in depth a few lessons from now. For now, just know that they're\n",
    "# yet another type of Python object, like int or float.\n",
    "a = [1, 2, 3]\n",
    "b = [3, 2, 1]\n",
    "q2.store_original_ids()\n",
    "######################################################################\n",
    "\n",
    "# Your code goes here. Swap the values to which a and b refer.\n",
    "# If you get stuck, you can always uncomment one or both of the lines in\n",
    "# the next cell for a hint, or to peek at the solution.\n",
    "\n",
    "######################################################################\n",
    "temp = a\n",
    "a = b\n",
    "b = temp\n",
    "\n",
    "# you can also swap two values like that --> a, b = b, a\n",
    "# Check your answer\n",
    "q2.check()"
   ]
  },
  {
   "cell_type": "code",
   "execution_count": null,
   "id": "c143e245",
   "metadata": {
    "execution": {
     "iopub.execute_input": "2022-11-17T17:26:41.136385Z",
     "iopub.status.busy": "2022-11-17T17:26:41.135951Z",
     "iopub.status.idle": "2022-11-17T17:26:41.140009Z",
     "shell.execute_reply": "2022-11-17T17:26:41.139258Z"
    },
    "papermill": {
     "duration": 0.014481,
     "end_time": "2022-11-17T17:26:41.142006",
     "exception": false,
     "start_time": "2022-11-17T17:26:41.127525",
     "status": "completed"
    },
    "tags": []
   },
   "outputs": [],
   "source": [
    "#q2.hint()"
   ]
  },
  {
   "cell_type": "code",
   "execution_count": null,
   "id": "4190eaf0",
   "metadata": {
    "execution": {
     "iopub.execute_input": "2022-11-17T17:26:41.158489Z",
     "iopub.status.busy": "2022-11-17T17:26:41.158062Z",
     "iopub.status.idle": "2022-11-17T17:26:41.162125Z",
     "shell.execute_reply": "2022-11-17T17:26:41.161015Z"
    },
    "papermill": {
     "duration": 0.014998,
     "end_time": "2022-11-17T17:26:41.164289",
     "exception": false,
     "start_time": "2022-11-17T17:26:41.149291",
     "status": "completed"
    },
    "tags": []
   },
   "outputs": [],
   "source": [
    "#q2.solution()"
   ]
  },
  {
   "cell_type": "markdown",
   "id": "38791143",
   "metadata": {
    "papermill": {
     "duration": 0.007243,
     "end_time": "2022-11-17T17:26:41.179280",
     "exception": false,
     "start_time": "2022-11-17T17:26:41.172037",
     "status": "completed"
    },
    "tags": []
   },
   "source": [
    "<hr/>\n",
    "\n",
    "# 3a.\n",
    "\n",
    "Add parentheses to the following expression so that it evaluates to 1."
   ]
  },
  {
   "cell_type": "code",
   "execution_count": null,
   "id": "f16a5c77",
   "metadata": {
    "execution": {
     "iopub.execute_input": "2022-11-17T17:26:41.196119Z",
     "iopub.status.busy": "2022-11-17T17:26:41.194880Z",
     "iopub.status.idle": "2022-11-17T17:26:41.201619Z",
     "shell.execute_reply": "2022-11-17T17:26:41.200643Z"
    },
    "papermill": {
     "duration": 0.017304,
     "end_time": "2022-11-17T17:26:41.203752",
     "exception": false,
     "start_time": "2022-11-17T17:26:41.186448",
     "status": "completed"
    },
    "tags": []
   },
   "outputs": [
    {
     "data": {
      "text/plain": [
       "1"
      ]
     },
     "execution_count": 9,
     "metadata": {},
     "output_type": "execute_result"
    }
   ],
   "source": [
    "(5 - 3) // 2"
   ]
  },
  {
   "cell_type": "code",
   "execution_count": null,
   "id": "9602196f",
   "metadata": {
    "execution": {
     "iopub.execute_input": "2022-11-17T17:26:41.221006Z",
     "iopub.status.busy": "2022-11-17T17:26:41.220255Z",
     "iopub.status.idle": "2022-11-17T17:26:41.224361Z",
     "shell.execute_reply": "2022-11-17T17:26:41.223392Z"
    },
    "papermill": {
     "duration": 0.015189,
     "end_time": "2022-11-17T17:26:41.226539",
     "exception": false,
     "start_time": "2022-11-17T17:26:41.211350",
     "status": "completed"
    },
    "tags": []
   },
   "outputs": [],
   "source": [
    "#q3.a.hint()"
   ]
  },
  {
   "cell_type": "code",
   "execution_count": null,
   "id": "0d672e8d",
   "metadata": {
    "execution": {
     "iopub.execute_input": "2022-11-17T17:26:41.243879Z",
     "iopub.status.busy": "2022-11-17T17:26:41.243140Z",
     "iopub.status.idle": "2022-11-17T17:26:41.250447Z",
     "shell.execute_reply": "2022-11-17T17:26:41.249630Z"
    },
    "papermill": {
     "duration": 0.018609,
     "end_time": "2022-11-17T17:26:41.252602",
     "exception": false,
     "start_time": "2022-11-17T17:26:41.233993",
     "status": "completed"
    },
    "tags": []
   },
   "outputs": [
    {
     "data": {
      "application/javascript": "parent.postMessage({\"jupyterEvent\": \"custom.exercise_interaction\", \"data\": {\"interactionType\": 3, \"questionType\": 4, \"questionId\": \"3.1_ArithmeticParensEasy\", \"learnToolsVersion\": \"0.3.4\", \"valueTowardsCompletion\": 0.0, \"failureMessage\": \"\", \"exceptionClass\": \"\", \"trace\": \"\", \"outcomeType\": 4}}, \"*\")",
      "text/plain": [
       "<IPython.core.display.Javascript object>"
      ]
     },
     "metadata": {},
     "output_type": "display_data"
    },
    {
     "data": {
      "text/markdown": [
       "<span style=\"color:#33cc99\">Solution:</span> \n",
       "```python\n",
       "(5 - 3) // 2\n",
       "```"
      ],
      "text/plain": [
       "Solution: \n",
       "```python\n",
       "(5 - 3) // 2\n",
       "```"
      ]
     },
     "metadata": {},
     "output_type": "display_data"
    }
   ],
   "source": [
    "# Check your answer (Run this code cell to receive credit!)\n",
    "q3.a.solution()"
   ]
  },
  {
   "cell_type": "markdown",
   "id": "ba983d45",
   "metadata": {
    "papermill": {
     "duration": 0.007564,
     "end_time": "2022-11-17T17:26:41.268497",
     "exception": false,
     "start_time": "2022-11-17T17:26:41.260933",
     "status": "completed"
    },
    "tags": []
   },
   "source": [
    "# 3b.  <span title=\"A bit spicy\" style=\"color: darkgreen \">🌶️</span>\n",
    "\n",
    "<small>Questions, like this one, marked a spicy pepper are a bit harder.</small>\n",
    "\n",
    "Add parentheses to the following expression so that it evaluates to 0."
   ]
  },
  {
   "cell_type": "code",
   "execution_count": null,
   "id": "b2528c2d",
   "metadata": {
    "execution": {
     "iopub.execute_input": "2022-11-17T17:26:41.286136Z",
     "iopub.status.busy": "2022-11-17T17:26:41.285374Z",
     "iopub.status.idle": "2022-11-17T17:26:41.292192Z",
     "shell.execute_reply": "2022-11-17T17:26:41.291041Z"
    },
    "papermill": {
     "duration": 0.018698,
     "end_time": "2022-11-17T17:26:41.294916",
     "exception": false,
     "start_time": "2022-11-17T17:26:41.276218",
     "status": "completed"
    },
    "tags": []
   },
   "outputs": [
    {
     "data": {
      "text/plain": [
       "0"
      ]
     },
     "execution_count": 12,
     "metadata": {},
     "output_type": "execute_result"
    }
   ],
   "source": [
    "(8 - 3) * (2 - (1 + 1))"
   ]
  },
  {
   "cell_type": "code",
   "execution_count": null,
   "id": "392ea1eb",
   "metadata": {
    "execution": {
     "iopub.execute_input": "2022-11-17T17:26:41.312836Z",
     "iopub.status.busy": "2022-11-17T17:26:41.312386Z",
     "iopub.status.idle": "2022-11-17T17:26:41.317189Z",
     "shell.execute_reply": "2022-11-17T17:26:41.316043Z"
    },
    "papermill": {
     "duration": 0.016313,
     "end_time": "2022-11-17T17:26:41.319471",
     "exception": false,
     "start_time": "2022-11-17T17:26:41.303158",
     "status": "completed"
    },
    "tags": []
   },
   "outputs": [],
   "source": [
    "#q3.b.hint()"
   ]
  },
  {
   "cell_type": "code",
   "execution_count": null,
   "id": "532a132c",
   "metadata": {
    "execution": {
     "iopub.execute_input": "2022-11-17T17:26:41.336802Z",
     "iopub.status.busy": "2022-11-17T17:26:41.336400Z",
     "iopub.status.idle": "2022-11-17T17:26:41.346151Z",
     "shell.execute_reply": "2022-11-17T17:26:41.345149Z"
    },
    "papermill": {
     "duration": 0.021208,
     "end_time": "2022-11-17T17:26:41.348592",
     "exception": false,
     "start_time": "2022-11-17T17:26:41.327384",
     "status": "completed"
    },
    "tags": []
   },
   "outputs": [
    {
     "data": {
      "application/javascript": "parent.postMessage({\"jupyterEvent\": \"custom.exercise_interaction\", \"data\": {\"interactionType\": 3, \"questionType\": 4, \"questionId\": \"3.2_ArithmeticParensHard\", \"learnToolsVersion\": \"0.3.4\", \"valueTowardsCompletion\": 0.0, \"failureMessage\": \"\", \"exceptionClass\": \"\", \"trace\": \"\", \"outcomeType\": 4}}, \"*\")",
      "text/plain": [
       "<IPython.core.display.Javascript object>"
      ]
     },
     "metadata": {},
     "output_type": "display_data"
    },
    {
     "data": {
      "text/markdown": [
       "<span style=\"color:#33cc99\">Solution:</span> `(8 - 3) * (2 - (1 + 1))` is one solution. There may be others."
      ],
      "text/plain": [
       "Solution: `(8 - 3) * (2 - (1 + 1))` is one solution. There may be others."
      ]
     },
     "metadata": {},
     "output_type": "display_data"
    }
   ],
   "source": [
    "# Check your answer (Run this code cell to receive credit!)\n",
    "q3.b.solution()"
   ]
  },
  {
   "cell_type": "markdown",
   "id": "c9dd6c92",
   "metadata": {
    "papermill": {
     "duration": 0.007627,
     "end_time": "2022-11-17T17:26:41.364402",
     "exception": false,
     "start_time": "2022-11-17T17:26:41.356775",
     "status": "completed"
    },
    "tags": []
   },
   "source": [
    "<hr/>\n",
    "\n",
    "# 4. \n",
    "Alice, Bob and Carol have agreed to pool their Halloween candy and split it evenly among themselves.\n",
    "For the sake of their friendship, any candies left over will be smashed. For example, if they collectively\n",
    "bring home 91 candies, they'll take 30 each and smash 1.\n",
    "\n",
    "Write an arithmetic expression below to calculate how many candies they must smash for a given haul."
   ]
  },
  {
   "cell_type": "code",
   "execution_count": null,
   "id": "73d84b99",
   "metadata": {
    "execution": {
     "iopub.execute_input": "2022-11-17T17:26:41.382438Z",
     "iopub.status.busy": "2022-11-17T17:26:41.382024Z",
     "iopub.status.idle": "2022-11-17T17:26:41.392915Z",
     "shell.execute_reply": "2022-11-17T17:26:41.391656Z"
    },
    "papermill": {
     "duration": 0.022693,
     "end_time": "2022-11-17T17:26:41.395448",
     "exception": false,
     "start_time": "2022-11-17T17:26:41.372755",
     "status": "completed"
    },
    "tags": []
   },
   "outputs": [
    {
     "data": {
      "application/javascript": "parent.postMessage({\"jupyterEvent\": \"custom.exercise_interaction\", \"data\": {\"outcomeType\": 1, \"valueTowardsCompletion\": 0.25, \"interactionType\": 1, \"questionType\": 1, \"questionId\": \"4_CandySplitting\", \"learnToolsVersion\": \"0.3.4\", \"failureMessage\": \"\", \"exceptionClass\": \"\", \"trace\": \"\"}}, \"*\")",
      "text/plain": [
       "<IPython.core.display.Javascript object>"
      ]
     },
     "metadata": {},
     "output_type": "display_data"
    },
    {
     "data": {
      "text/markdown": [
       "<span style=\"color:#33cc33\">Correct</span>"
      ],
      "text/plain": [
       "Correct"
      ]
     },
     "metadata": {},
     "output_type": "display_data"
    }
   ],
   "source": [
    "# Variables representing the number of candies collected by alice, bob, and carol\n",
    "alice_candies = 121\n",
    "bob_candies = 77\n",
    "carol_candies = 109\n",
    "\n",
    "# Your code goes here! Replace the right-hand side of this assignment with an expression\n",
    "# involving alice_candies, bob_candies, and carol_candies\n",
    "\n",
    "total = alice_candies + bob_candies + carol_candies\n",
    "\n",
    "to_smash = total%3\n",
    "\n",
    "# Check your answer\n",
    "q4.check()"
   ]
  },
  {
   "cell_type": "code",
   "execution_count": null,
   "id": "2b700ffe",
   "metadata": {
    "execution": {
     "iopub.execute_input": "2022-11-17T17:26:41.413785Z",
     "iopub.status.busy": "2022-11-17T17:26:41.413391Z",
     "iopub.status.idle": "2022-11-17T17:26:41.418030Z",
     "shell.execute_reply": "2022-11-17T17:26:41.416832Z"
    },
    "papermill": {
     "duration": 0.016268,
     "end_time": "2022-11-17T17:26:41.420105",
     "exception": false,
     "start_time": "2022-11-17T17:26:41.403837",
     "status": "completed"
    },
    "tags": []
   },
   "outputs": [],
   "source": [
    "#q4.hint()\n",
    "#q4.solution()"
   ]
  }
 ],
 "metadata": {
  "kernelspec": {
   "display_name": "Python 3",
   "language": "python",
   "name": "python3"
  },
  "language_info": {
   "codemirror_mode": {
    "name": "ipython",
    "version": 3
   },
   "file_extension": ".py",
   "mimetype": "text/x-python",
   "name": "python",
   "nbconvert_exporter": "python",
   "pygments_lexer": "ipython3",
   "version": "3.7.12"
  },
  "papermill": {
   "default_parameters": {},
   "duration": 10.157885,
   "end_time": "2022-11-17T17:26:42.182660",
   "environment_variables": {},
   "exception": null,
   "input_path": "__notebook__.ipynb",
   "output_path": "__notebook__.ipynb",
   "parameters": {},
   "start_time": "2022-11-17T17:26:32.024775",
   "version": "2.3.4"
  }
 },
 "nbformat": 4,
 "nbformat_minor": 5
}
